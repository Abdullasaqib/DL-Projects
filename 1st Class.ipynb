{
 "cells": [
  {
   "cell_type": "code",
   "execution_count": 2,
   "id": "fa28bc58-c6f9-42f7-989c-741660e967b5",
   "metadata": {},
   "outputs": [],
   "source": [
    "import sklearn\n",
    "import pandas as pd\n",
    "# !pip install tensorflow\n",
    "import tensorflow as tf"
   ]
  },
  {
   "cell_type": "code",
   "execution_count": 4,
   "id": "ca8dbcc3-968a-416f-b7c4-815e2420c8bf",
   "metadata": {},
   "outputs": [],
   "source": [
    "df = pd.read_csv(r\"D:\\Datasets\\Machine Learning\\USA_Housing.csv\")"
   ]
  },
  {
   "cell_type": "code",
   "execution_count": 6,
   "id": "248320e7-3a60-4155-8cd1-a62fa00849ca",
   "metadata": {},
   "outputs": [
    {
     "name": "stdout",
     "output_type": "stream",
     "text": [
      "<class 'pandas.core.frame.DataFrame'>\n",
      "RangeIndex: 5000 entries, 0 to 4999\n",
      "Data columns (total 7 columns):\n",
      " #   Column                        Non-Null Count  Dtype  \n",
      "---  ------                        --------------  -----  \n",
      " 0   Avg. Area Income              5000 non-null   float64\n",
      " 1   Avg. Area House Age           5000 non-null   float64\n",
      " 2   Avg. Area Number of Rooms     5000 non-null   float64\n",
      " 3   Avg. Area Number of Bedrooms  5000 non-null   float64\n",
      " 4   Area Population               5000 non-null   float64\n",
      " 5   Price                         5000 non-null   float64\n",
      " 6   Address                       5000 non-null   object \n",
      "dtypes: float64(6), object(1)\n",
      "memory usage: 273.6+ KB\n"
     ]
    }
   ],
   "source": [
    "df.info()"
   ]
  },
  {
   "cell_type": "code",
   "execution_count": 8,
   "id": "67de970b-cb2b-4767-ad0a-a61cea96fc49",
   "metadata": {},
   "outputs": [],
   "source": [
    "df.drop(columns='Address', inplace = True)\n",
    "df['Price'] = df['Price'].astype('int')"
   ]
  },
  {
   "cell_type": "code",
   "execution_count": 10,
   "id": "d45d0835-8021-4504-b76b-f5ff3abdd0c2",
   "metadata": {},
   "outputs": [
    {
     "name": "stdout",
     "output_type": "stream",
     "text": [
      "<class 'pandas.core.frame.DataFrame'>\n",
      "RangeIndex: 5000 entries, 0 to 4999\n",
      "Data columns (total 6 columns):\n",
      " #   Column                        Non-Null Count  Dtype  \n",
      "---  ------                        --------------  -----  \n",
      " 0   Avg. Area Income              5000 non-null   float64\n",
      " 1   Avg. Area House Age           5000 non-null   float64\n",
      " 2   Avg. Area Number of Rooms     5000 non-null   float64\n",
      " 3   Avg. Area Number of Bedrooms  5000 non-null   float64\n",
      " 4   Area Population               5000 non-null   float64\n",
      " 5   Price                         5000 non-null   int32  \n",
      "dtypes: float64(5), int32(1)\n",
      "memory usage: 215.0 KB\n"
     ]
    }
   ],
   "source": [
    "df.info()"
   ]
  },
  {
   "cell_type": "code",
   "execution_count": 47,
   "id": "88c772b1-60bf-4b87-8924-c2582917e8cf",
   "metadata": {},
   "outputs": [
    {
     "data": {
      "text/html": [
       "<div>\n",
       "<style scoped>\n",
       "    .dataframe tbody tr th:only-of-type {\n",
       "        vertical-align: middle;\n",
       "    }\n",
       "\n",
       "    .dataframe tbody tr th {\n",
       "        vertical-align: top;\n",
       "    }\n",
       "\n",
       "    .dataframe thead th {\n",
       "        text-align: right;\n",
       "    }\n",
       "</style>\n",
       "<table border=\"1\" class=\"dataframe\">\n",
       "  <thead>\n",
       "    <tr style=\"text-align: right;\">\n",
       "      <th></th>\n",
       "      <th>Avg. Area Income</th>\n",
       "      <th>Avg. Area House Age</th>\n",
       "      <th>Avg. Area Number of Rooms</th>\n",
       "      <th>Avg. Area Number of Bedrooms</th>\n",
       "      <th>Area Population</th>\n",
       "      <th>Price</th>\n",
       "    </tr>\n",
       "  </thead>\n",
       "  <tbody>\n",
       "    <tr>\n",
       "      <th>0</th>\n",
       "      <td>79545.458574</td>\n",
       "      <td>5.682861</td>\n",
       "      <td>7.009188</td>\n",
       "      <td>4.09</td>\n",
       "      <td>23086.800503</td>\n",
       "      <td>1059033</td>\n",
       "    </tr>\n",
       "    <tr>\n",
       "      <th>1</th>\n",
       "      <td>79248.642455</td>\n",
       "      <td>6.002900</td>\n",
       "      <td>6.730821</td>\n",
       "      <td>3.09</td>\n",
       "      <td>40173.072174</td>\n",
       "      <td>1505890</td>\n",
       "    </tr>\n",
       "    <tr>\n",
       "      <th>2</th>\n",
       "      <td>61287.067179</td>\n",
       "      <td>5.865890</td>\n",
       "      <td>8.512727</td>\n",
       "      <td>5.13</td>\n",
       "      <td>36882.159400</td>\n",
       "      <td>1058987</td>\n",
       "    </tr>\n",
       "    <tr>\n",
       "      <th>3</th>\n",
       "      <td>63345.240046</td>\n",
       "      <td>7.188236</td>\n",
       "      <td>5.586729</td>\n",
       "      <td>3.26</td>\n",
       "      <td>34310.242831</td>\n",
       "      <td>1260616</td>\n",
       "    </tr>\n",
       "    <tr>\n",
       "      <th>4</th>\n",
       "      <td>59982.197226</td>\n",
       "      <td>5.040555</td>\n",
       "      <td>7.839388</td>\n",
       "      <td>4.23</td>\n",
       "      <td>26354.109472</td>\n",
       "      <td>630943</td>\n",
       "    </tr>\n",
       "  </tbody>\n",
       "</table>\n",
       "</div>"
      ],
      "text/plain": [
       "   Avg. Area Income  Avg. Area House Age  Avg. Area Number of Rooms  \\\n",
       "0      79545.458574             5.682861                   7.009188   \n",
       "1      79248.642455             6.002900                   6.730821   \n",
       "2      61287.067179             5.865890                   8.512727   \n",
       "3      63345.240046             7.188236                   5.586729   \n",
       "4      59982.197226             5.040555                   7.839388   \n",
       "\n",
       "   Avg. Area Number of Bedrooms  Area Population    Price  \n",
       "0                          4.09     23086.800503  1059033  \n",
       "1                          3.09     40173.072174  1505890  \n",
       "2                          5.13     36882.159400  1058987  \n",
       "3                          3.26     34310.242831  1260616  \n",
       "4                          4.23     26354.109472   630943  "
      ]
     },
     "execution_count": 47,
     "metadata": {},
     "output_type": "execute_result"
    }
   ],
   "source": [
    "df.head()"
   ]
  },
  {
   "cell_type": "code",
   "execution_count": 49,
   "id": "32432871-fd6b-4098-a490-3348ea739aba",
   "metadata": {},
   "outputs": [],
   "source": [
    "X = df.drop(columns='Price')\n",
    "y = df['Price']\n",
    "from sklearn.model_selection import train_test_split\n",
    "X_train, X_test, y_train, y_test = train_test_split(X,y,test_size=0.2, random_state=1)\n",
    "from sklearn.preprocessing import StandardScaler\n",
    "sc = StandardScaler()\n",
    "X_train_sc = sc.fit_transform(X_train)\n",
    "X_test_sc = sc.transform(X_test)"
   ]
  },
  {
   "cell_type": "markdown",
   "id": "b5ca7805-6d5a-4304-aefc-7d9ac83947ef",
   "metadata": {},
   "source": [
    "### Building The Model"
   ]
  },
  {
   "cell_type": "code",
   "execution_count": 60,
   "id": "fa5f0e99-e3a5-4e82-8826-2a8050954ef5",
   "metadata": {},
   "outputs": [],
   "source": [
    "from keras.layers import Dense\n",
    "# We Are Importing A Dense Layer Is A Layer In Which All The Neurons(nodes) Of Previous Layer\n",
    "# Is Connected To All The Neurons Of The Next Layer Hence It Is ALso Known As Fully Connected\n",
    "# Layer\n",
    "from keras.models import Sequential\n",
    "# Sequencial Is A Model In Which The Layers Are Arranged In A Proper Sequence"
   ]
  },
  {
   "cell_type": "code",
   "execution_count": 19,
   "id": "13d4c8de-fe04-46cb-b479-20f12fc90df0",
   "metadata": {},
   "outputs": [],
   "source": [
    "model = Sequential()\n",
    "# We Are Creating A Empty Sequential Model Named 'Model'"
   ]
  },
  {
   "cell_type": "code",
   "execution_count": 27,
   "id": "1641d5a0-03e1-40e9-8ffc-8bbd66124bdd",
   "metadata": {},
   "outputs": [],
   "source": [
    "# Adding Our First Hidden Layer Layer\n",
    "model.add(Dense(units=12, activation='relu'))"
   ]
  },
  {
   "cell_type": "code",
   "execution_count": 29,
   "id": "a29eee8d-05fe-40b4-8e32-53e0cd270c47",
   "metadata": {},
   "outputs": [],
   "source": [
    "# Second Hidden Layer\n",
    "model.add(Dense(units=12, activation='relu'))"
   ]
  },
  {
   "cell_type": "code",
   "execution_count": 31,
   "id": "3cb86579-0346-4fed-8703-d787edbd3d1e",
   "metadata": {},
   "outputs": [],
   "source": [
    "# Third Hidden Layer\n",
    "model.add(Dense(units=12, activation='relu'))"
   ]
  },
  {
   "cell_type": "code",
   "execution_count": 35,
   "id": "40bc1d61-d4d7-473b-af68-868730bb5e3a",
   "metadata": {},
   "outputs": [],
   "source": [
    "# Output Layer\n",
    "model.add(Dense(units=1, activation='linear'))\n",
    "# relu 0-1, Sigmoid is for binary categorical values, tanh -1-+1\n",
    "# When Our Data Is Linear We Use 'Linear'\n",
    "# Softmax Is For Multi-Class Categorical Values"
   ]
  },
  {
   "cell_type": "code",
   "execution_count": 37,
   "id": "0df37f13-611b-43eb-a794-307cafc398af",
   "metadata": {},
   "outputs": [],
   "source": [
    "model.compile(optimizer='Adam', loss='mean_squared_error')"
   ]
  },
  {
   "cell_type": "code",
   "execution_count": 51,
   "id": "101cd8ea-4ad6-4542-b4ee-7625d55d08cd",
   "metadata": {},
   "outputs": [
    {
     "name": "stdout",
     "output_type": "stream",
     "text": [
      "Epoch 1/100\n",
      "\u001b[1m125/125\u001b[0m \u001b[32m━━━━━━━━━━━━━━━━━━━━\u001b[0m\u001b[37m\u001b[0m \u001b[1m0s\u001b[0m 2ms/step - loss: 1637898518528.0000\n",
      "Epoch 2/100\n",
      "\u001b[1m125/125\u001b[0m \u001b[32m━━━━━━━━━━━━━━━━━━━━\u001b[0m\u001b[37m\u001b[0m \u001b[1m0s\u001b[0m 2ms/step - loss: 1640472772608.0000\n",
      "Epoch 3/100\n",
      "\u001b[1m125/125\u001b[0m \u001b[32m━━━━━━━━━━━━━━━━━━━━\u001b[0m\u001b[37m\u001b[0m \u001b[1m0s\u001b[0m 2ms/step - loss: 1631007932416.0000\n",
      "Epoch 4/100\n",
      "\u001b[1m125/125\u001b[0m \u001b[32m━━━━━━━━━━━━━━━━━━━━\u001b[0m\u001b[37m\u001b[0m \u001b[1m0s\u001b[0m 2ms/step - loss: 1653115453440.0000\n",
      "Epoch 5/100\n",
      "\u001b[1m125/125\u001b[0m \u001b[32m━━━━━━━━━━━━━━━━━━━━\u001b[0m\u001b[37m\u001b[0m \u001b[1m0s\u001b[0m 2ms/step - loss: 1635853402112.0000\n",
      "Epoch 6/100\n",
      "\u001b[1m125/125\u001b[0m \u001b[32m━━━━━━━━━━━━━━━━━━━━\u001b[0m\u001b[37m\u001b[0m \u001b[1m0s\u001b[0m 2ms/step - loss: 1610648649728.0000\n",
      "Epoch 7/100\n",
      "\u001b[1m125/125\u001b[0m \u001b[32m━━━━━━━━━━━━━━━━━━━━\u001b[0m\u001b[37m\u001b[0m \u001b[1m0s\u001b[0m 2ms/step - loss: 1559670816768.0000\n",
      "Epoch 8/100\n",
      "\u001b[1m125/125\u001b[0m \u001b[32m━━━━━━━━━━━━━━━━━━━━\u001b[0m\u001b[37m\u001b[0m \u001b[1m0s\u001b[0m 2ms/step - loss: 1553762484224.0000\n",
      "Epoch 9/100\n",
      "\u001b[1m125/125\u001b[0m \u001b[32m━━━━━━━━━━━━━━━━━━━━\u001b[0m\u001b[37m\u001b[0m \u001b[1m0s\u001b[0m 2ms/step - loss: 1549302628352.0000\n",
      "Epoch 10/100\n",
      "\u001b[1m125/125\u001b[0m \u001b[32m━━━━━━━━━━━━━━━━━━━━\u001b[0m\u001b[37m\u001b[0m \u001b[1m0s\u001b[0m 2ms/step - loss: 1489515446272.0000\n",
      "Epoch 11/100\n",
      "\u001b[1m125/125\u001b[0m \u001b[32m━━━━━━━━━━━━━━━━━━━━\u001b[0m\u001b[37m\u001b[0m \u001b[1m0s\u001b[0m 2ms/step - loss: 1458894143488.0000\n",
      "Epoch 12/100\n",
      "\u001b[1m125/125\u001b[0m \u001b[32m━━━━━━━━━━━━━━━━━━━━\u001b[0m\u001b[37m\u001b[0m \u001b[1m0s\u001b[0m 2ms/step - loss: 1413516623872.0000\n",
      "Epoch 13/100\n",
      "\u001b[1m125/125\u001b[0m \u001b[32m━━━━━━━━━━━━━━━━━━━━\u001b[0m\u001b[37m\u001b[0m \u001b[1m0s\u001b[0m 2ms/step - loss: 1337674039296.0000\n",
      "Epoch 14/100\n",
      "\u001b[1m125/125\u001b[0m \u001b[32m━━━━━━━━━━━━━━━━━━━━\u001b[0m\u001b[37m\u001b[0m \u001b[1m0s\u001b[0m 2ms/step - loss: 1277854089216.0000\n",
      "Epoch 15/100\n",
      "\u001b[1m125/125\u001b[0m \u001b[32m━━━━━━━━━━━━━━━━━━━━\u001b[0m\u001b[37m\u001b[0m \u001b[1m0s\u001b[0m 2ms/step - loss: 1194084007936.0000\n",
      "Epoch 16/100\n",
      "\u001b[1m125/125\u001b[0m \u001b[32m━━━━━━━━━━━━━━━━━━━━\u001b[0m\u001b[37m\u001b[0m \u001b[1m0s\u001b[0m 2ms/step - loss: 1137726980096.0000\n",
      "Epoch 17/100\n",
      "\u001b[1m125/125\u001b[0m \u001b[32m━━━━━━━━━━━━━━━━━━━━\u001b[0m\u001b[37m\u001b[0m \u001b[1m0s\u001b[0m 2ms/step - loss: 1060887396352.0000\n",
      "Epoch 18/100\n",
      "\u001b[1m125/125\u001b[0m \u001b[32m━━━━━━━━━━━━━━━━━━━━\u001b[0m\u001b[37m\u001b[0m \u001b[1m0s\u001b[0m 2ms/step - loss: 974129004544.0000\n",
      "Epoch 19/100\n",
      "\u001b[1m125/125\u001b[0m \u001b[32m━━━━━━━━━━━━━━━━━━━━\u001b[0m\u001b[37m\u001b[0m \u001b[1m0s\u001b[0m 2ms/step - loss: 919063953408.0000\n",
      "Epoch 20/100\n",
      "\u001b[1m125/125\u001b[0m \u001b[32m━━━━━━━━━━━━━━━━━━━━\u001b[0m\u001b[37m\u001b[0m \u001b[1m0s\u001b[0m 2ms/step - loss: 819168477184.0000\n",
      "Epoch 21/100\n",
      "\u001b[1m125/125\u001b[0m \u001b[32m━━━━━━━━━━━━━━━━━━━━\u001b[0m\u001b[37m\u001b[0m \u001b[1m0s\u001b[0m 2ms/step - loss: 769410203648.0000\n",
      "Epoch 22/100\n",
      "\u001b[1m125/125\u001b[0m \u001b[32m━━━━━━━━━━━━━━━━━━━━\u001b[0m\u001b[37m\u001b[0m \u001b[1m0s\u001b[0m 2ms/step - loss: 694598696960.0000\n",
      "Epoch 23/100\n",
      "\u001b[1m125/125\u001b[0m \u001b[32m━━━━━━━━━━━━━━━━━━━━\u001b[0m\u001b[37m\u001b[0m \u001b[1m0s\u001b[0m 2ms/step - loss: 655817441280.0000\n",
      "Epoch 24/100\n",
      "\u001b[1m125/125\u001b[0m \u001b[32m━━━━━━━━━━━━━━━━━━━━\u001b[0m\u001b[37m\u001b[0m \u001b[1m0s\u001b[0m 2ms/step - loss: 607271911424.0000\n",
      "Epoch 25/100\n",
      "\u001b[1m125/125\u001b[0m \u001b[32m━━━━━━━━━━━━━━━━━━━━\u001b[0m\u001b[37m\u001b[0m \u001b[1m0s\u001b[0m 2ms/step - loss: 584132067328.0000\n",
      "Epoch 26/100\n",
      "\u001b[1m125/125\u001b[0m \u001b[32m━━━━━━━━━━━━━━━━━━━━\u001b[0m\u001b[37m\u001b[0m \u001b[1m0s\u001b[0m 2ms/step - loss: 546346631168.0000\n",
      "Epoch 27/100\n",
      "\u001b[1m125/125\u001b[0m \u001b[32m━━━━━━━━━━━━━━━━━━━━\u001b[0m\u001b[37m\u001b[0m \u001b[1m0s\u001b[0m 2ms/step - loss: 520684634112.0000\n",
      "Epoch 28/100\n",
      "\u001b[1m125/125\u001b[0m \u001b[32m━━━━━━━━━━━━━━━━━━━━\u001b[0m\u001b[37m\u001b[0m \u001b[1m0s\u001b[0m 2ms/step - loss: 499565297664.0000\n",
      "Epoch 29/100\n",
      "\u001b[1m125/125\u001b[0m \u001b[32m━━━━━━━━━━━━━━━━━━━━\u001b[0m\u001b[37m\u001b[0m \u001b[1m0s\u001b[0m 2ms/step - loss: 467550109696.0000\n",
      "Epoch 30/100\n",
      "\u001b[1m125/125\u001b[0m \u001b[32m━━━━━━━━━━━━━━━━━━━━\u001b[0m\u001b[37m\u001b[0m \u001b[1m0s\u001b[0m 2ms/step - loss: 431398780928.0000\n",
      "Epoch 31/100\n",
      "\u001b[1m125/125\u001b[0m \u001b[32m━━━━━━━━━━━━━━━━━━━━\u001b[0m\u001b[37m\u001b[0m \u001b[1m0s\u001b[0m 2ms/step - loss: 408276434944.0000\n",
      "Epoch 32/100\n",
      "\u001b[1m125/125\u001b[0m \u001b[32m━━━━━━━━━━━━━━━━━━━━\u001b[0m\u001b[37m\u001b[0m \u001b[1m0s\u001b[0m 2ms/step - loss: 374490398720.0000\n",
      "Epoch 33/100\n",
      "\u001b[1m125/125\u001b[0m \u001b[32m━━━━━━━━━━━━━━━━━━━━\u001b[0m\u001b[37m\u001b[0m \u001b[1m0s\u001b[0m 2ms/step - loss: 352805814272.0000\n",
      "Epoch 34/100\n",
      "\u001b[1m125/125\u001b[0m \u001b[32m━━━━━━━━━━━━━━━━━━━━\u001b[0m\u001b[37m\u001b[0m \u001b[1m0s\u001b[0m 2ms/step - loss: 326273892352.0000\n",
      "Epoch 35/100\n",
      "\u001b[1m125/125\u001b[0m \u001b[32m━━━━━━━━━━━━━━━━━━━━\u001b[0m\u001b[37m\u001b[0m \u001b[1m0s\u001b[0m 2ms/step - loss: 295382384640.0000\n",
      "Epoch 36/100\n",
      "\u001b[1m125/125\u001b[0m \u001b[32m━━━━━━━━━━━━━━━━━━━━\u001b[0m\u001b[37m\u001b[0m \u001b[1m0s\u001b[0m 2ms/step - loss: 272937910272.0000\n",
      "Epoch 37/100\n",
      "\u001b[1m125/125\u001b[0m \u001b[32m━━━━━━━━━━━━━━━━━━━━\u001b[0m\u001b[37m\u001b[0m \u001b[1m0s\u001b[0m 2ms/step - loss: 253600956416.0000\n",
      "Epoch 38/100\n",
      "\u001b[1m125/125\u001b[0m \u001b[32m━━━━━━━━━━━━━━━━━━━━\u001b[0m\u001b[37m\u001b[0m \u001b[1m0s\u001b[0m 2ms/step - loss: 233839378432.0000\n",
      "Epoch 39/100\n",
      "\u001b[1m125/125\u001b[0m \u001b[32m━━━━━━━━━━━━━━━━━━━━\u001b[0m\u001b[37m\u001b[0m \u001b[1m0s\u001b[0m 2ms/step - loss: 208899735552.0000\n",
      "Epoch 40/100\n",
      "\u001b[1m125/125\u001b[0m \u001b[32m━━━━━━━━━━━━━━━━━━━━\u001b[0m\u001b[37m\u001b[0m \u001b[1m0s\u001b[0m 2ms/step - loss: 186431258624.0000\n",
      "Epoch 41/100\n",
      "\u001b[1m125/125\u001b[0m \u001b[32m━━━━━━━━━━━━━━━━━━━━\u001b[0m\u001b[37m\u001b[0m \u001b[1m0s\u001b[0m 2ms/step - loss: 166754779136.0000\n",
      "Epoch 42/100\n",
      "\u001b[1m125/125\u001b[0m \u001b[32m━━━━━━━━━━━━━━━━━━━━\u001b[0m\u001b[37m\u001b[0m \u001b[1m0s\u001b[0m 2ms/step - loss: 149517451264.0000\n",
      "Epoch 43/100\n",
      "\u001b[1m125/125\u001b[0m \u001b[32m━━━━━━━━━━━━━━━━━━━━\u001b[0m\u001b[37m\u001b[0m \u001b[1m0s\u001b[0m 2ms/step - loss: 132682391552.0000\n",
      "Epoch 44/100\n",
      "\u001b[1m125/125\u001b[0m \u001b[32m━━━━━━━━━━━━━━━━━━━━\u001b[0m\u001b[37m\u001b[0m \u001b[1m0s\u001b[0m 2ms/step - loss: 120381546496.0000\n",
      "Epoch 45/100\n",
      "\u001b[1m125/125\u001b[0m \u001b[32m━━━━━━━━━━━━━━━━━━━━\u001b[0m\u001b[37m\u001b[0m \u001b[1m0s\u001b[0m 2ms/step - loss: 106707820544.0000\n",
      "Epoch 46/100\n",
      "\u001b[1m125/125\u001b[0m \u001b[32m━━━━━━━━━━━━━━━━━━━━\u001b[0m\u001b[37m\u001b[0m \u001b[1m0s\u001b[0m 2ms/step - loss: 96738975744.0000\n",
      "Epoch 47/100\n",
      "\u001b[1m125/125\u001b[0m \u001b[32m━━━━━━━━━━━━━━━━━━━━\u001b[0m\u001b[37m\u001b[0m \u001b[1m0s\u001b[0m 2ms/step - loss: 86428024832.0000\n",
      "Epoch 48/100\n",
      "\u001b[1m125/125\u001b[0m \u001b[32m━━━━━━━━━━━━━━━━━━━━\u001b[0m\u001b[37m\u001b[0m \u001b[1m0s\u001b[0m 2ms/step - loss: 77713227776.0000\n",
      "Epoch 49/100\n",
      "\u001b[1m125/125\u001b[0m \u001b[32m━━━━━━━━━━━━━━━━━━━━\u001b[0m\u001b[37m\u001b[0m \u001b[1m0s\u001b[0m 2ms/step - loss: 69760262144.0000\n",
      "Epoch 50/100\n",
      "\u001b[1m125/125\u001b[0m \u001b[32m━━━━━━━━━━━━━━━━━━━━\u001b[0m\u001b[37m\u001b[0m \u001b[1m0s\u001b[0m 2ms/step - loss: 63740637184.0000\n",
      "Epoch 51/100\n",
      "\u001b[1m125/125\u001b[0m \u001b[32m━━━━━━━━━━━━━━━━━━━━\u001b[0m\u001b[37m\u001b[0m \u001b[1m0s\u001b[0m 2ms/step - loss: 58783911936.0000\n",
      "Epoch 52/100\n",
      "\u001b[1m125/125\u001b[0m \u001b[32m━━━━━━━━━━━━━━━━━━━━\u001b[0m\u001b[37m\u001b[0m \u001b[1m0s\u001b[0m 2ms/step - loss: 56137854976.0000\n",
      "Epoch 53/100\n",
      "\u001b[1m125/125\u001b[0m \u001b[32m━━━━━━━━━━━━━━━━━━━━\u001b[0m\u001b[37m\u001b[0m \u001b[1m0s\u001b[0m 2ms/step - loss: 49601851392.0000\n",
      "Epoch 54/100\n",
      "\u001b[1m125/125\u001b[0m \u001b[32m━━━━━━━━━━━━━━━━━━━━\u001b[0m\u001b[37m\u001b[0m \u001b[1m0s\u001b[0m 2ms/step - loss: 47632560128.0000\n",
      "Epoch 55/100\n",
      "\u001b[1m125/125\u001b[0m \u001b[32m━━━━━━━━━━━━━━━━━━━━\u001b[0m\u001b[37m\u001b[0m \u001b[1m0s\u001b[0m 2ms/step - loss: 48106037248.0000\n",
      "Epoch 56/100\n",
      "\u001b[1m125/125\u001b[0m \u001b[32m━━━━━━━━━━━━━━━━━━━━\u001b[0m\u001b[37m\u001b[0m \u001b[1m0s\u001b[0m 2ms/step - loss: 43832418304.0000\n",
      "Epoch 57/100\n",
      "\u001b[1m125/125\u001b[0m \u001b[32m━━━━━━━━━━━━━━━━━━━━\u001b[0m\u001b[37m\u001b[0m \u001b[1m0s\u001b[0m 2ms/step - loss: 42359894016.0000\n",
      "Epoch 58/100\n",
      "\u001b[1m125/125\u001b[0m \u001b[32m━━━━━━━━━━━━━━━━━━━━\u001b[0m\u001b[37m\u001b[0m \u001b[1m0s\u001b[0m 2ms/step - loss: 40821518336.0000\n",
      "Epoch 59/100\n",
      "\u001b[1m125/125\u001b[0m \u001b[32m━━━━━━━━━━━━━━━━━━━━\u001b[0m\u001b[37m\u001b[0m \u001b[1m0s\u001b[0m 2ms/step - loss: 38393733120.0000\n",
      "Epoch 60/100\n",
      "\u001b[1m125/125\u001b[0m \u001b[32m━━━━━━━━━━━━━━━━━━━━\u001b[0m\u001b[37m\u001b[0m \u001b[1m0s\u001b[0m 2ms/step - loss: 37234847744.0000\n",
      "Epoch 61/100\n",
      "\u001b[1m125/125\u001b[0m \u001b[32m━━━━━━━━━━━━━━━━━━━━\u001b[0m\u001b[37m\u001b[0m \u001b[1m0s\u001b[0m 2ms/step - loss: 35171278848.0000\n",
      "Epoch 62/100\n",
      "\u001b[1m125/125\u001b[0m \u001b[32m━━━━━━━━━━━━━━━━━━━━\u001b[0m\u001b[37m\u001b[0m \u001b[1m0s\u001b[0m 2ms/step - loss: 34036840448.0000\n",
      "Epoch 63/100\n",
      "\u001b[1m125/125\u001b[0m \u001b[32m━━━━━━━━━━━━━━━━━━━━\u001b[0m\u001b[37m\u001b[0m \u001b[1m0s\u001b[0m 2ms/step - loss: 34298834944.0000\n",
      "Epoch 64/100\n",
      "\u001b[1m125/125\u001b[0m \u001b[32m━━━━━━━━━━━━━━━━━━━━\u001b[0m\u001b[37m\u001b[0m \u001b[1m0s\u001b[0m 2ms/step - loss: 31846137856.0000\n",
      "Epoch 65/100\n",
      "\u001b[1m125/125\u001b[0m \u001b[32m━━━━━━━━━━━━━━━━━━━━\u001b[0m\u001b[37m\u001b[0m \u001b[1m0s\u001b[0m 2ms/step - loss: 30886191104.0000\n",
      "Epoch 66/100\n",
      "\u001b[1m125/125\u001b[0m \u001b[32m━━━━━━━━━━━━━━━━━━━━\u001b[0m\u001b[37m\u001b[0m \u001b[1m0s\u001b[0m 2ms/step - loss: 31401144320.0000\n",
      "Epoch 67/100\n",
      "\u001b[1m125/125\u001b[0m \u001b[32m━━━━━━━━━━━━━━━━━━━━\u001b[0m\u001b[37m\u001b[0m \u001b[1m0s\u001b[0m 2ms/step - loss: 29515264000.0000\n",
      "Epoch 68/100\n",
      "\u001b[1m125/125\u001b[0m \u001b[32m━━━━━━━━━━━━━━━━━━━━\u001b[0m\u001b[37m\u001b[0m \u001b[1m0s\u001b[0m 2ms/step - loss: 27374905344.0000\n",
      "Epoch 69/100\n",
      "\u001b[1m125/125\u001b[0m \u001b[32m━━━━━━━━━━━━━━━━━━━━\u001b[0m\u001b[37m\u001b[0m \u001b[1m0s\u001b[0m 2ms/step - loss: 25726375936.0000\n",
      "Epoch 70/100\n",
      "\u001b[1m125/125\u001b[0m \u001b[32m━━━━━━━━━━━━━━━━━━━━\u001b[0m\u001b[37m\u001b[0m \u001b[1m0s\u001b[0m 2ms/step - loss: 25840766976.0000\n",
      "Epoch 71/100\n",
      "\u001b[1m125/125\u001b[0m \u001b[32m━━━━━━━━━━━━━━━━━━━━\u001b[0m\u001b[37m\u001b[0m \u001b[1m0s\u001b[0m 2ms/step - loss: 26228219904.0000\n",
      "Epoch 72/100\n",
      "\u001b[1m125/125\u001b[0m \u001b[32m━━━━━━━━━━━━━━━━━━━━\u001b[0m\u001b[37m\u001b[0m \u001b[1m0s\u001b[0m 2ms/step - loss: 25247705088.0000\n",
      "Epoch 73/100\n",
      "\u001b[1m125/125\u001b[0m \u001b[32m━━━━━━━━━━━━━━━━━━━━\u001b[0m\u001b[37m\u001b[0m \u001b[1m0s\u001b[0m 2ms/step - loss: 23237990400.0000\n",
      "Epoch 74/100\n",
      "\u001b[1m125/125\u001b[0m \u001b[32m━━━━━━━━━━━━━━━━━━━━\u001b[0m\u001b[37m\u001b[0m \u001b[1m0s\u001b[0m 2ms/step - loss: 22345072640.0000\n",
      "Epoch 75/100\n",
      "\u001b[1m125/125\u001b[0m \u001b[32m━━━━━━━━━━━━━━━━━━━━\u001b[0m\u001b[37m\u001b[0m \u001b[1m0s\u001b[0m 2ms/step - loss: 21479870464.0000\n",
      "Epoch 76/100\n",
      "\u001b[1m125/125\u001b[0m \u001b[32m━━━━━━━━━━━━━━━━━━━━\u001b[0m\u001b[37m\u001b[0m \u001b[1m0s\u001b[0m 2ms/step - loss: 22170664960.0000\n",
      "Epoch 77/100\n",
      "\u001b[1m125/125\u001b[0m \u001b[32m━━━━━━━━━━━━━━━━━━━━\u001b[0m\u001b[37m\u001b[0m \u001b[1m0s\u001b[0m 2ms/step - loss: 20060559360.0000\n",
      "Epoch 78/100\n",
      "\u001b[1m125/125\u001b[0m \u001b[32m━━━━━━━━━━━━━━━━━━━━\u001b[0m\u001b[37m\u001b[0m \u001b[1m0s\u001b[0m 2ms/step - loss: 20114116608.0000\n",
      "Epoch 79/100\n",
      "\u001b[1m125/125\u001b[0m \u001b[32m━━━━━━━━━━━━━━━━━━━━\u001b[0m\u001b[37m\u001b[0m \u001b[1m0s\u001b[0m 2ms/step - loss: 19064461312.0000\n",
      "Epoch 80/100\n",
      "\u001b[1m125/125\u001b[0m \u001b[32m━━━━━━━━━━━━━━━━━━━━\u001b[0m\u001b[37m\u001b[0m \u001b[1m0s\u001b[0m 2ms/step - loss: 18170513408.0000\n",
      "Epoch 81/100\n",
      "\u001b[1m125/125\u001b[0m \u001b[32m━━━━━━━━━━━━━━━━━━━━\u001b[0m\u001b[37m\u001b[0m \u001b[1m0s\u001b[0m 2ms/step - loss: 18572621824.0000\n",
      "Epoch 82/100\n",
      "\u001b[1m125/125\u001b[0m \u001b[32m━━━━━━━━━━━━━━━━━━━━\u001b[0m\u001b[37m\u001b[0m \u001b[1m0s\u001b[0m 2ms/step - loss: 17964595200.0000\n",
      "Epoch 83/100\n",
      "\u001b[1m125/125\u001b[0m \u001b[32m━━━━━━━━━━━━━━━━━━━━\u001b[0m\u001b[37m\u001b[0m \u001b[1m0s\u001b[0m 2ms/step - loss: 17237278720.0000\n",
      "Epoch 84/100\n",
      "\u001b[1m125/125\u001b[0m \u001b[32m━━━━━━━━━━━━━━━━━━━━\u001b[0m\u001b[37m\u001b[0m \u001b[1m0s\u001b[0m 2ms/step - loss: 17409384448.0000\n",
      "Epoch 85/100\n",
      "\u001b[1m125/125\u001b[0m \u001b[32m━━━━━━━━━━━━━━━━━━━━\u001b[0m\u001b[37m\u001b[0m \u001b[1m0s\u001b[0m 2ms/step - loss: 15938907136.0000\n",
      "Epoch 86/100\n",
      "\u001b[1m125/125\u001b[0m \u001b[32m━━━━━━━━━━━━━━━━━━━━\u001b[0m\u001b[37m\u001b[0m \u001b[1m0s\u001b[0m 2ms/step - loss: 16422210560.0000\n",
      "Epoch 87/100\n",
      "\u001b[1m125/125\u001b[0m \u001b[32m━━━━━━━━━━━━━━━━━━━━\u001b[0m\u001b[37m\u001b[0m \u001b[1m0s\u001b[0m 2ms/step - loss: 15586784256.0000\n",
      "Epoch 88/100\n",
      "\u001b[1m125/125\u001b[0m \u001b[32m━━━━━━━━━━━━━━━━━━━━\u001b[0m\u001b[37m\u001b[0m \u001b[1m0s\u001b[0m 2ms/step - loss: 15727736832.0000\n",
      "Epoch 89/100\n",
      "\u001b[1m125/125\u001b[0m \u001b[32m━━━━━━━━━━━━━━━━━━━━\u001b[0m\u001b[37m\u001b[0m \u001b[1m0s\u001b[0m 2ms/step - loss: 15199975424.0000\n",
      "Epoch 90/100\n",
      "\u001b[1m125/125\u001b[0m \u001b[32m━━━━━━━━━━━━━━━━━━━━\u001b[0m\u001b[37m\u001b[0m \u001b[1m0s\u001b[0m 2ms/step - loss: 14439686144.0000\n",
      "Epoch 91/100\n",
      "\u001b[1m125/125\u001b[0m \u001b[32m━━━━━━━━━━━━━━━━━━━━\u001b[0m\u001b[37m\u001b[0m \u001b[1m0s\u001b[0m 2ms/step - loss: 14189618176.0000\n",
      "Epoch 92/100\n",
      "\u001b[1m125/125\u001b[0m \u001b[32m━━━━━━━━━━━━━━━━━━━━\u001b[0m\u001b[37m\u001b[0m \u001b[1m0s\u001b[0m 2ms/step - loss: 14358897664.0000\n",
      "Epoch 93/100\n",
      "\u001b[1m125/125\u001b[0m \u001b[32m━━━━━━━━━━━━━━━━━━━━\u001b[0m\u001b[37m\u001b[0m \u001b[1m0s\u001b[0m 2ms/step - loss: 13845346304.0000\n",
      "Epoch 94/100\n",
      "\u001b[1m125/125\u001b[0m \u001b[32m━━━━━━━━━━━━━━━━━━━━\u001b[0m\u001b[37m\u001b[0m \u001b[1m0s\u001b[0m 2ms/step - loss: 14464149504.0000\n",
      "Epoch 95/100\n",
      "\u001b[1m125/125\u001b[0m \u001b[32m━━━━━━━━━━━━━━━━━━━━\u001b[0m\u001b[37m\u001b[0m \u001b[1m0s\u001b[0m 2ms/step - loss: 13754378240.0000\n",
      "Epoch 96/100\n",
      "\u001b[1m125/125\u001b[0m \u001b[32m━━━━━━━━━━━━━━━━━━━━\u001b[0m\u001b[37m\u001b[0m \u001b[1m0s\u001b[0m 2ms/step - loss: 13520850944.0000\n",
      "Epoch 97/100\n",
      "\u001b[1m125/125\u001b[0m \u001b[32m━━━━━━━━━━━━━━━━━━━━\u001b[0m\u001b[37m\u001b[0m \u001b[1m0s\u001b[0m 2ms/step - loss: 13200277504.0000\n",
      "Epoch 98/100\n",
      "\u001b[1m125/125\u001b[0m \u001b[32m━━━━━━━━━━━━━━━━━━━━\u001b[0m\u001b[37m\u001b[0m \u001b[1m0s\u001b[0m 2ms/step - loss: 12880549888.0000\n",
      "Epoch 99/100\n",
      "\u001b[1m125/125\u001b[0m \u001b[32m━━━━━━━━━━━━━━━━━━━━\u001b[0m\u001b[37m\u001b[0m \u001b[1m0s\u001b[0m 2ms/step - loss: 13250695168.0000\n",
      "Epoch 100/100\n",
      "\u001b[1m125/125\u001b[0m \u001b[32m━━━━━━━━━━━━━━━━━━━━\u001b[0m\u001b[37m\u001b[0m \u001b[1m0s\u001b[0m 2ms/step - loss: 12804073472.0000\n"
     ]
    },
    {
     "data": {
      "text/plain": [
       "<keras.src.callbacks.history.History at 0x1be53a12c30>"
      ]
     },
     "execution_count": 51,
     "metadata": {},
     "output_type": "execute_result"
    }
   ],
   "source": [
    "model.fit(X_train_sc, y_train, epochs=100, batch_size=32)"
   ]
  },
  {
   "cell_type": "code",
   "execution_count": 52,
   "id": "a1bd9d90-0b9b-49ff-a363-38bcd9b41237",
   "metadata": {},
   "outputs": [
    {
     "name": "stdout",
     "output_type": "stream",
     "text": [
      "\u001b[1m32/32\u001b[0m \u001b[32m━━━━━━━━━━━━━━━━━━━━\u001b[0m\u001b[37m\u001b[0m \u001b[1m0s\u001b[0m 970us/step\n"
     ]
    }
   ],
   "source": [
    "y_pred = model.predict(X_test_sc)"
   ]
  },
  {
   "cell_type": "code",
   "execution_count": 53,
   "id": "590a42b1-eb50-4821-bf05-99ec3bce190f",
   "metadata": {},
   "outputs": [
    {
     "name": "stdout",
     "output_type": "stream",
     "text": [
      "89.80405383293395\n",
      "117093.34023603726\n"
     ]
    }
   ],
   "source": [
    "from sklearn.metrics import r2_score, mean_squared_error\n",
    "print(r2_score(y_test,y_pred)*100)\n",
    "print(mean_squared_error(y_test,y_pred)**0.5)"
   ]
  },
  {
   "cell_type": "markdown",
   "id": "0b039876-387b-4f80-9950-a9c86f45e3fd",
   "metadata": {},
   "source": [
    "![Screenshot 2024-08-15 170005.png](data:image/png;base64,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)"
   ]
  },
  {
   "cell_type": "markdown",
   "id": "37e04633-9e37-4760-b43a-cfdb660670dd",
   "metadata": {},
   "source": [
    "## Classification"
   ]
  },
  {
   "cell_type": "code",
   "execution_count": 63,
   "id": "c2a37cf4-2c55-48da-b27a-e3d893c6687e",
   "metadata": {},
   "outputs": [],
   "source": [
    "from sklearn.datasets import load_breast_cancer\n",
    "cancer_data = load_breast_cancer()\n",
    "data = pd.DataFrame(cancer_data.data, columns=cancer_data.feature_names)"
   ]
  },
  {
   "cell_type": "code",
   "execution_count": 65,
   "id": "71c185e1-8c7e-4f1b-9386-dcaca89f53be",
   "metadata": {},
   "outputs": [
    {
     "data": {
      "text/html": [
       "<div>\n",
       "<style scoped>\n",
       "    .dataframe tbody tr th:only-of-type {\n",
       "        vertical-align: middle;\n",
       "    }\n",
       "\n",
       "    .dataframe tbody tr th {\n",
       "        vertical-align: top;\n",
       "    }\n",
       "\n",
       "    .dataframe thead th {\n",
       "        text-align: right;\n",
       "    }\n",
       "</style>\n",
       "<table border=\"1\" class=\"dataframe\">\n",
       "  <thead>\n",
       "    <tr style=\"text-align: right;\">\n",
       "      <th></th>\n",
       "      <th>mean radius</th>\n",
       "      <th>mean texture</th>\n",
       "      <th>mean perimeter</th>\n",
       "      <th>mean area</th>\n",
       "      <th>mean smoothness</th>\n",
       "      <th>mean compactness</th>\n",
       "      <th>mean concavity</th>\n",
       "      <th>mean concave points</th>\n",
       "      <th>mean symmetry</th>\n",
       "      <th>mean fractal dimension</th>\n",
       "      <th>...</th>\n",
       "      <th>worst radius</th>\n",
       "      <th>worst texture</th>\n",
       "      <th>worst perimeter</th>\n",
       "      <th>worst area</th>\n",
       "      <th>worst smoothness</th>\n",
       "      <th>worst compactness</th>\n",
       "      <th>worst concavity</th>\n",
       "      <th>worst concave points</th>\n",
       "      <th>worst symmetry</th>\n",
       "      <th>worst fractal dimension</th>\n",
       "    </tr>\n",
       "  </thead>\n",
       "  <tbody>\n",
       "    <tr>\n",
       "      <th>0</th>\n",
       "      <td>17.99</td>\n",
       "      <td>10.38</td>\n",
       "      <td>122.80</td>\n",
       "      <td>1001.0</td>\n",
       "      <td>0.11840</td>\n",
       "      <td>0.27760</td>\n",
       "      <td>0.3001</td>\n",
       "      <td>0.14710</td>\n",
       "      <td>0.2419</td>\n",
       "      <td>0.07871</td>\n",
       "      <td>...</td>\n",
       "      <td>25.38</td>\n",
       "      <td>17.33</td>\n",
       "      <td>184.60</td>\n",
       "      <td>2019.0</td>\n",
       "      <td>0.1622</td>\n",
       "      <td>0.6656</td>\n",
       "      <td>0.7119</td>\n",
       "      <td>0.2654</td>\n",
       "      <td>0.4601</td>\n",
       "      <td>0.11890</td>\n",
       "    </tr>\n",
       "    <tr>\n",
       "      <th>1</th>\n",
       "      <td>20.57</td>\n",
       "      <td>17.77</td>\n",
       "      <td>132.90</td>\n",
       "      <td>1326.0</td>\n",
       "      <td>0.08474</td>\n",
       "      <td>0.07864</td>\n",
       "      <td>0.0869</td>\n",
       "      <td>0.07017</td>\n",
       "      <td>0.1812</td>\n",
       "      <td>0.05667</td>\n",
       "      <td>...</td>\n",
       "      <td>24.99</td>\n",
       "      <td>23.41</td>\n",
       "      <td>158.80</td>\n",
       "      <td>1956.0</td>\n",
       "      <td>0.1238</td>\n",
       "      <td>0.1866</td>\n",
       "      <td>0.2416</td>\n",
       "      <td>0.1860</td>\n",
       "      <td>0.2750</td>\n",
       "      <td>0.08902</td>\n",
       "    </tr>\n",
       "    <tr>\n",
       "      <th>2</th>\n",
       "      <td>19.69</td>\n",
       "      <td>21.25</td>\n",
       "      <td>130.00</td>\n",
       "      <td>1203.0</td>\n",
       "      <td>0.10960</td>\n",
       "      <td>0.15990</td>\n",
       "      <td>0.1974</td>\n",
       "      <td>0.12790</td>\n",
       "      <td>0.2069</td>\n",
       "      <td>0.05999</td>\n",
       "      <td>...</td>\n",
       "      <td>23.57</td>\n",
       "      <td>25.53</td>\n",
       "      <td>152.50</td>\n",
       "      <td>1709.0</td>\n",
       "      <td>0.1444</td>\n",
       "      <td>0.4245</td>\n",
       "      <td>0.4504</td>\n",
       "      <td>0.2430</td>\n",
       "      <td>0.3613</td>\n",
       "      <td>0.08758</td>\n",
       "    </tr>\n",
       "    <tr>\n",
       "      <th>3</th>\n",
       "      <td>11.42</td>\n",
       "      <td>20.38</td>\n",
       "      <td>77.58</td>\n",
       "      <td>386.1</td>\n",
       "      <td>0.14250</td>\n",
       "      <td>0.28390</td>\n",
       "      <td>0.2414</td>\n",
       "      <td>0.10520</td>\n",
       "      <td>0.2597</td>\n",
       "      <td>0.09744</td>\n",
       "      <td>...</td>\n",
       "      <td>14.91</td>\n",
       "      <td>26.50</td>\n",
       "      <td>98.87</td>\n",
       "      <td>567.7</td>\n",
       "      <td>0.2098</td>\n",
       "      <td>0.8663</td>\n",
       "      <td>0.6869</td>\n",
       "      <td>0.2575</td>\n",
       "      <td>0.6638</td>\n",
       "      <td>0.17300</td>\n",
       "    </tr>\n",
       "    <tr>\n",
       "      <th>4</th>\n",
       "      <td>20.29</td>\n",
       "      <td>14.34</td>\n",
       "      <td>135.10</td>\n",
       "      <td>1297.0</td>\n",
       "      <td>0.10030</td>\n",
       "      <td>0.13280</td>\n",
       "      <td>0.1980</td>\n",
       "      <td>0.10430</td>\n",
       "      <td>0.1809</td>\n",
       "      <td>0.05883</td>\n",
       "      <td>...</td>\n",
       "      <td>22.54</td>\n",
       "      <td>16.67</td>\n",
       "      <td>152.20</td>\n",
       "      <td>1575.0</td>\n",
       "      <td>0.1374</td>\n",
       "      <td>0.2050</td>\n",
       "      <td>0.4000</td>\n",
       "      <td>0.1625</td>\n",
       "      <td>0.2364</td>\n",
       "      <td>0.07678</td>\n",
       "    </tr>\n",
       "  </tbody>\n",
       "</table>\n",
       "<p>5 rows × 30 columns</p>\n",
       "</div>"
      ],
      "text/plain": [
       "   mean radius  mean texture  mean perimeter  mean area  mean smoothness  \\\n",
       "0        17.99         10.38          122.80     1001.0          0.11840   \n",
       "1        20.57         17.77          132.90     1326.0          0.08474   \n",
       "2        19.69         21.25          130.00     1203.0          0.10960   \n",
       "3        11.42         20.38           77.58      386.1          0.14250   \n",
       "4        20.29         14.34          135.10     1297.0          0.10030   \n",
       "\n",
       "   mean compactness  mean concavity  mean concave points  mean symmetry  \\\n",
       "0           0.27760          0.3001              0.14710         0.2419   \n",
       "1           0.07864          0.0869              0.07017         0.1812   \n",
       "2           0.15990          0.1974              0.12790         0.2069   \n",
       "3           0.28390          0.2414              0.10520         0.2597   \n",
       "4           0.13280          0.1980              0.10430         0.1809   \n",
       "\n",
       "   mean fractal dimension  ...  worst radius  worst texture  worst perimeter  \\\n",
       "0                 0.07871  ...         25.38          17.33           184.60   \n",
       "1                 0.05667  ...         24.99          23.41           158.80   \n",
       "2                 0.05999  ...         23.57          25.53           152.50   \n",
       "3                 0.09744  ...         14.91          26.50            98.87   \n",
       "4                 0.05883  ...         22.54          16.67           152.20   \n",
       "\n",
       "   worst area  worst smoothness  worst compactness  worst concavity  \\\n",
       "0      2019.0            0.1622             0.6656           0.7119   \n",
       "1      1956.0            0.1238             0.1866           0.2416   \n",
       "2      1709.0            0.1444             0.4245           0.4504   \n",
       "3       567.7            0.2098             0.8663           0.6869   \n",
       "4      1575.0            0.1374             0.2050           0.4000   \n",
       "\n",
       "   worst concave points  worst symmetry  worst fractal dimension  \n",
       "0                0.2654          0.4601                  0.11890  \n",
       "1                0.1860          0.2750                  0.08902  \n",
       "2                0.2430          0.3613                  0.08758  \n",
       "3                0.2575          0.6638                  0.17300  \n",
       "4                0.1625          0.2364                  0.07678  \n",
       "\n",
       "[5 rows x 30 columns]"
      ]
     },
     "execution_count": 65,
     "metadata": {},
     "output_type": "execute_result"
    }
   ],
   "source": [
    "data.head()"
   ]
  },
  {
   "cell_type": "code",
   "execution_count": 67,
   "id": "51139f4c-0377-415b-9828-4af1f69b3c8f",
   "metadata": {},
   "outputs": [],
   "source": [
    "scaled_data = sc.fit_transform(data)"
   ]
  },
  {
   "cell_type": "code",
   "execution_count": 69,
   "id": "02711015-6525-4db4-bccc-a387ff17a34b",
   "metadata": {},
   "outputs": [
    {
     "data": {
      "text/plain": [
       "array([[ 1.09706398, -2.07333501,  1.26993369, ...,  2.29607613,\n",
       "         2.75062224,  1.93701461],\n",
       "       [ 1.82982061, -0.35363241,  1.68595471, ...,  1.0870843 ,\n",
       "        -0.24388967,  0.28118999],\n",
       "       [ 1.57988811,  0.45618695,  1.56650313, ...,  1.95500035,\n",
       "         1.152255  ,  0.20139121],\n",
       "       ...,\n",
       "       [ 0.70228425,  2.0455738 ,  0.67267578, ...,  0.41406869,\n",
       "        -1.10454895, -0.31840916],\n",
       "       [ 1.83834103,  2.33645719,  1.98252415, ...,  2.28998549,\n",
       "         1.91908301,  2.21963528],\n",
       "       [-1.80840125,  1.22179204, -1.81438851, ..., -1.74506282,\n",
       "        -0.04813821, -0.75120669]])"
      ]
     },
     "execution_count": 69,
     "metadata": {},
     "output_type": "execute_result"
    }
   ],
   "source": [
    "scaled_data"
   ]
  },
  {
   "cell_type": "code",
   "execution_count": 71,
   "id": "edff5849-88e0-493b-884b-5abec4e285cc",
   "metadata": {},
   "outputs": [
    {
     "name": "stdout",
     "output_type": "stream",
     "text": [
      "['malignant' 'benign']\n"
     ]
    }
   ],
   "source": [
    "X = scaled_data\n",
    "y = cancer_data.target\n",
    "print(cancer_data.target_names)"
   ]
  },
  {
   "cell_type": "code",
   "execution_count": 89,
   "id": "0d2d7670-c38e-4a33-a778-04c609b55d0a",
   "metadata": {},
   "outputs": [],
   "source": [
    "from sklearn.model_selection import train_test_split\n",
    "X_train, X_test, y_train, y_test = train_test_split(X, y, test_size=0.1, random_state=1)"
   ]
  },
  {
   "cell_type": "code",
   "execution_count": 91,
   "id": "46f121ad-9d60-491b-b0aa-1547ec848912",
   "metadata": {},
   "outputs": [],
   "source": [
    "model2 = Sequential()"
   ]
  },
  {
   "cell_type": "code",
   "execution_count": 93,
   "id": "4a9473dd-8f1e-4bdd-b7ad-9b7c264a2538",
   "metadata": {},
   "outputs": [],
   "source": [
    "model2.add(Dense(units=10,activation='relu'))\n",
    "model2.add(Dense(units=10,activation='relu'))\n",
    "model2.add(Dense(units=10,activation='relu'))\n",
    "model2.add(Dense(units=10,activation='relu'))"
   ]
  },
  {
   "cell_type": "code",
   "execution_count": 95,
   "id": "fa3f4cb5-37db-4d4c-8874-85cf093424d4",
   "metadata": {},
   "outputs": [],
   "source": [
    "model2.add(Dense(units=1,activation='sigmoid'))"
   ]
  },
  {
   "cell_type": "code",
   "execution_count": 97,
   "id": "735cadf9-b575-490a-bcff-53a75bf6a695",
   "metadata": {},
   "outputs": [],
   "source": [
    "model2.compile(optimizer='Adam', loss='binary_crossentropy', metrics=['accuracy'])"
   ]
  },
  {
   "cell_type": "code",
   "execution_count": 99,
   "id": "c9e412e3-ef7b-4693-848b-6bd7144cb253",
   "metadata": {},
   "outputs": [],
   "source": [
    "# Binary Crossentropy Is A Loss Function Which Is Used WHien Our Data Is In Binary Classification\n",
    "# Accuracy Defines The Accuracy"
   ]
  },
  {
   "cell_type": "code",
   "execution_count": 103,
   "id": "f3be2b15-be5a-4a70-a463-9a34ee77125b",
   "metadata": {},
   "outputs": [
    {
     "name": "stdout",
     "output_type": "stream",
     "text": [
      "Epoch 1/80\n",
      "\u001b[1m12/12\u001b[0m \u001b[32m━━━━━━━━━━━━━━━━━━━━\u001b[0m\u001b[37m\u001b[0m \u001b[1m2s\u001b[0m 2ms/step - accuracy: 0.5990 - loss: 0.7628\n",
      "Epoch 2/80\n",
      "\u001b[1m12/12\u001b[0m \u001b[32m━━━━━━━━━━━━━━━━━━━━\u001b[0m\u001b[37m\u001b[0m \u001b[1m0s\u001b[0m 1ms/step - accuracy: 0.6514 - loss: 0.6759 \n",
      "Epoch 3/80\n",
      "\u001b[1m12/12\u001b[0m \u001b[32m━━━━━━━━━━━━━━━━━━━━\u001b[0m\u001b[37m\u001b[0m \u001b[1m0s\u001b[0m 1ms/step - accuracy: 0.7469 - loss: 0.6175 \n",
      "Epoch 4/80\n",
      "\u001b[1m12/12\u001b[0m \u001b[32m━━━━━━━━━━━━━━━━━━━━\u001b[0m\u001b[37m\u001b[0m \u001b[1m0s\u001b[0m 1ms/step - accuracy: 0.7758 - loss: 0.5760 \n",
      "Epoch 5/80\n",
      "\u001b[1m12/12\u001b[0m \u001b[32m━━━━━━━━━━━━━━━━━━━━\u001b[0m\u001b[37m\u001b[0m \u001b[1m0s\u001b[0m 1ms/step - accuracy: 0.8633 - loss: 0.4965 \n",
      "Epoch 6/80\n",
      "\u001b[1m12/12\u001b[0m \u001b[32m━━━━━━━━━━━━━━━━━━━━\u001b[0m\u001b[37m\u001b[0m \u001b[1m0s\u001b[0m 1ms/step - accuracy: 0.8677 - loss: 0.4269 \n",
      "Epoch 7/80\n",
      "\u001b[1m12/12\u001b[0m \u001b[32m━━━━━━━━━━━━━━━━━━━━\u001b[0m\u001b[37m\u001b[0m \u001b[1m0s\u001b[0m 2ms/step - accuracy: 0.9077 - loss: 0.3465 \n",
      "Epoch 8/80\n",
      "\u001b[1m12/12\u001b[0m \u001b[32m━━━━━━━━━━━━━━━━━━━━\u001b[0m\u001b[37m\u001b[0m \u001b[1m0s\u001b[0m 2ms/step - accuracy: 0.9044 - loss: 0.2759 \n",
      "Epoch 9/80\n",
      "\u001b[1m12/12\u001b[0m \u001b[32m━━━━━━━━━━━━━━━━━━━━\u001b[0m\u001b[37m\u001b[0m \u001b[1m0s\u001b[0m 1ms/step - accuracy: 0.9229 - loss: 0.2378 \n",
      "Epoch 10/80\n",
      "\u001b[1m12/12\u001b[0m \u001b[32m━━━━━━━━━━━━━━━━━━━━\u001b[0m\u001b[37m\u001b[0m \u001b[1m0s\u001b[0m 2ms/step - accuracy: 0.9397 - loss: 0.1902 \n",
      "Epoch 11/80\n",
      "\u001b[1m12/12\u001b[0m \u001b[32m━━━━━━━━━━━━━━━━━━━━\u001b[0m\u001b[37m\u001b[0m \u001b[1m0s\u001b[0m 1ms/step - accuracy: 0.9496 - loss: 0.1727 \n",
      "Epoch 12/80\n",
      "\u001b[1m12/12\u001b[0m \u001b[32m━━━━━━━━━━━━━━━━━━━━\u001b[0m\u001b[37m\u001b[0m \u001b[1m0s\u001b[0m 2ms/step - accuracy: 0.9467 - loss: 0.1647 \n",
      "Epoch 13/80\n",
      "\u001b[1m12/12\u001b[0m \u001b[32m━━━━━━━━━━━━━━━━━━━━\u001b[0m\u001b[37m\u001b[0m \u001b[1m0s\u001b[0m 2ms/step - accuracy: 0.9634 - loss: 0.1290 \n",
      "Epoch 14/80\n",
      "\u001b[1m12/12\u001b[0m \u001b[32m━━━━━━━━━━━━━━━━━━━━\u001b[0m\u001b[37m\u001b[0m \u001b[1m0s\u001b[0m 1ms/step - accuracy: 0.9615 - loss: 0.1299 \n",
      "Epoch 15/80\n",
      "\u001b[1m12/12\u001b[0m \u001b[32m━━━━━━━━━━━━━━━━━━━━\u001b[0m\u001b[37m\u001b[0m \u001b[1m0s\u001b[0m 1ms/step - accuracy: 0.9711 - loss: 0.1009 \n",
      "Epoch 16/80\n",
      "\u001b[1m12/12\u001b[0m \u001b[32m━━━━━━━━━━━━━━━━━━━━\u001b[0m\u001b[37m\u001b[0m \u001b[1m0s\u001b[0m 1ms/step - accuracy: 0.9698 - loss: 0.1108 \n",
      "Epoch 17/80\n",
      "\u001b[1m12/12\u001b[0m \u001b[32m━━━━━━━━━━━━━━━━━━━━\u001b[0m\u001b[37m\u001b[0m \u001b[1m0s\u001b[0m 1ms/step - accuracy: 0.9706 - loss: 0.0949 \n",
      "Epoch 18/80\n",
      "\u001b[1m12/12\u001b[0m \u001b[32m━━━━━━━━━━━━━━━━━━━━\u001b[0m\u001b[37m\u001b[0m \u001b[1m0s\u001b[0m 1ms/step - accuracy: 0.9825 - loss: 0.0681 \n",
      "Epoch 19/80\n",
      "\u001b[1m12/12\u001b[0m \u001b[32m━━━━━━━━━━━━━━━━━━━━\u001b[0m\u001b[37m\u001b[0m \u001b[1m0s\u001b[0m 1ms/step - accuracy: 0.9692 - loss: 0.0899 \n",
      "Epoch 20/80\n",
      "\u001b[1m12/12\u001b[0m \u001b[32m━━━━━━━━━━━━━━━━━━━━\u001b[0m\u001b[37m\u001b[0m \u001b[1m0s\u001b[0m 2ms/step - accuracy: 0.9704 - loss: 0.1030 \n",
      "Epoch 21/80\n",
      "\u001b[1m12/12\u001b[0m \u001b[32m━━━━━━━━━━━━━━━━━━━━\u001b[0m\u001b[37m\u001b[0m \u001b[1m0s\u001b[0m 2ms/step - accuracy: 0.9746 - loss: 0.0737 \n",
      "Epoch 22/80\n",
      "\u001b[1m12/12\u001b[0m \u001b[32m━━━━━━━━━━━━━━━━━━━━\u001b[0m\u001b[37m\u001b[0m \u001b[1m0s\u001b[0m 1ms/step - accuracy: 0.9827 - loss: 0.0601 \n",
      "Epoch 23/80\n",
      "\u001b[1m12/12\u001b[0m \u001b[32m━━━━━━━━━━━━━━━━━━━━\u001b[0m\u001b[37m\u001b[0m \u001b[1m0s\u001b[0m 1ms/step - accuracy: 0.9766 - loss: 0.0747 \n",
      "Epoch 24/80\n",
      "\u001b[1m12/12\u001b[0m \u001b[32m━━━━━━━━━━━━━━━━━━━━\u001b[0m\u001b[37m\u001b[0m \u001b[1m0s\u001b[0m 1ms/step - accuracy: 0.9751 - loss: 0.0718 \n",
      "Epoch 25/80\n",
      "\u001b[1m12/12\u001b[0m \u001b[32m━━━━━━━━━━━━━━━━━━━━\u001b[0m\u001b[37m\u001b[0m \u001b[1m0s\u001b[0m 1ms/step - accuracy: 0.9880 - loss: 0.0578 \n",
      "Epoch 26/80\n",
      "\u001b[1m12/12\u001b[0m \u001b[32m━━━━━━━━━━━━━━━━━━━━\u001b[0m\u001b[37m\u001b[0m \u001b[1m0s\u001b[0m 1ms/step - accuracy: 0.9775 - loss: 0.0899 \n",
      "Epoch 27/80\n",
      "\u001b[1m12/12\u001b[0m \u001b[32m━━━━━━━━━━━━━━━━━━━━\u001b[0m\u001b[37m\u001b[0m \u001b[1m0s\u001b[0m 1ms/step - accuracy: 0.9865 - loss: 0.0605 \n",
      "Epoch 28/80\n",
      "\u001b[1m12/12\u001b[0m \u001b[32m━━━━━━━━━━━━━━━━━━━━\u001b[0m\u001b[37m\u001b[0m \u001b[1m0s\u001b[0m 1ms/step - accuracy: 0.9782 - loss: 0.0847 \n",
      "Epoch 29/80\n",
      "\u001b[1m12/12\u001b[0m \u001b[32m━━━━━━━━━━━━━━━━━━━━\u001b[0m\u001b[37m\u001b[0m \u001b[1m0s\u001b[0m 1ms/step - accuracy: 0.9839 - loss: 0.0528 \n",
      "Epoch 30/80\n",
      "\u001b[1m12/12\u001b[0m \u001b[32m━━━━━━━━━━━━━━━━━━━━\u001b[0m\u001b[37m\u001b[0m \u001b[1m0s\u001b[0m 1ms/step - accuracy: 0.9843 - loss: 0.0578 \n",
      "Epoch 31/80\n",
      "\u001b[1m12/12\u001b[0m \u001b[32m━━━━━━━━━━━━━━━━━━━━\u001b[0m\u001b[37m\u001b[0m \u001b[1m0s\u001b[0m 2ms/step - accuracy: 0.9819 - loss: 0.0584 \n",
      "Epoch 32/80\n",
      "\u001b[1m12/12\u001b[0m \u001b[32m━━━━━━━━━━━━━━━━━━━━\u001b[0m\u001b[37m\u001b[0m \u001b[1m0s\u001b[0m 1ms/step - accuracy: 0.9856 - loss: 0.0550 \n",
      "Epoch 33/80\n",
      "\u001b[1m12/12\u001b[0m \u001b[32m━━━━━━━━━━━━━━━━━━━━\u001b[0m\u001b[37m\u001b[0m \u001b[1m0s\u001b[0m 1ms/step - accuracy: 0.9834 - loss: 0.0556 \n",
      "Epoch 34/80\n",
      "\u001b[1m12/12\u001b[0m \u001b[32m━━━━━━━━━━━━━━━━━━━━\u001b[0m\u001b[37m\u001b[0m \u001b[1m0s\u001b[0m 1ms/step - accuracy: 0.9883 - loss: 0.0483 \n",
      "Epoch 35/80\n",
      "\u001b[1m12/12\u001b[0m \u001b[32m━━━━━━━━━━━━━━━━━━━━\u001b[0m\u001b[37m\u001b[0m \u001b[1m0s\u001b[0m 1ms/step - accuracy: 0.9883 - loss: 0.0383 \n",
      "Epoch 36/80\n",
      "\u001b[1m12/12\u001b[0m \u001b[32m━━━━━━━━━━━━━━━━━━━━\u001b[0m\u001b[37m\u001b[0m \u001b[1m0s\u001b[0m 1ms/step - accuracy: 0.9903 - loss: 0.0383 \n",
      "Epoch 37/80\n",
      "\u001b[1m12/12\u001b[0m \u001b[32m━━━━━━━━━━━━━━━━━━━━\u001b[0m\u001b[37m\u001b[0m \u001b[1m0s\u001b[0m 1ms/step - accuracy: 0.9900 - loss: 0.0441 \n",
      "Epoch 38/80\n",
      "\u001b[1m12/12\u001b[0m \u001b[32m━━━━━━━━━━━━━━━━━━━━\u001b[0m\u001b[37m\u001b[0m \u001b[1m0s\u001b[0m 1ms/step - accuracy: 0.9850 - loss: 0.0502 \n",
      "Epoch 39/80\n",
      "\u001b[1m12/12\u001b[0m \u001b[32m━━━━━━━━━━━━━━━━━━━━\u001b[0m\u001b[37m\u001b[0m \u001b[1m0s\u001b[0m 1ms/step - accuracy: 0.9897 - loss: 0.0381 \n",
      "Epoch 40/80\n",
      "\u001b[1m12/12\u001b[0m \u001b[32m━━━━━━━━━━━━━━━━━━━━\u001b[0m\u001b[37m\u001b[0m \u001b[1m0s\u001b[0m 2ms/step - accuracy: 0.9924 - loss: 0.0327 \n",
      "Epoch 41/80\n",
      "\u001b[1m12/12\u001b[0m \u001b[32m━━━━━━━━━━━━━━━━━━━━\u001b[0m\u001b[37m\u001b[0m \u001b[1m0s\u001b[0m 1ms/step - accuracy: 0.9908 - loss: 0.0315 \n",
      "Epoch 42/80\n",
      "\u001b[1m12/12\u001b[0m \u001b[32m━━━━━━━━━━━━━━━━━━━━\u001b[0m\u001b[37m\u001b[0m \u001b[1m0s\u001b[0m 3ms/step - accuracy: 0.9881 - loss: 0.0558 \n",
      "Epoch 43/80\n",
      "\u001b[1m12/12\u001b[0m \u001b[32m━━━━━━━━━━━━━━━━━━━━\u001b[0m\u001b[37m\u001b[0m \u001b[1m0s\u001b[0m 1ms/step - accuracy: 0.9895 - loss: 0.0327 \n",
      "Epoch 44/80\n",
      "\u001b[1m12/12\u001b[0m \u001b[32m━━━━━━━━━━━━━━━━━━━━\u001b[0m\u001b[37m\u001b[0m \u001b[1m0s\u001b[0m 3ms/step - accuracy: 0.9885 - loss: 0.0422 \n",
      "Epoch 45/80\n",
      "\u001b[1m12/12\u001b[0m \u001b[32m━━━━━━━━━━━━━━━━━━━━\u001b[0m\u001b[37m\u001b[0m \u001b[1m0s\u001b[0m 2ms/step - accuracy: 0.9940 - loss: 0.0303 \n",
      "Epoch 46/80\n",
      "\u001b[1m12/12\u001b[0m \u001b[32m━━━━━━━━━━━━━━━━━━━━\u001b[0m\u001b[37m\u001b[0m \u001b[1m0s\u001b[0m 3ms/step - accuracy: 0.9877 - loss: 0.0449 \n",
      "Epoch 47/80\n",
      "\u001b[1m12/12\u001b[0m \u001b[32m━━━━━━━━━━━━━━━━━━━━\u001b[0m\u001b[37m\u001b[0m \u001b[1m0s\u001b[0m 1ms/step - accuracy: 0.9961 - loss: 0.0213 \n",
      "Epoch 48/80\n",
      "\u001b[1m12/12\u001b[0m \u001b[32m━━━━━━━━━━━━━━━━━━━━\u001b[0m\u001b[37m\u001b[0m \u001b[1m0s\u001b[0m 2ms/step - accuracy: 0.9937 - loss: 0.0281 \n",
      "Epoch 49/80\n",
      "\u001b[1m12/12\u001b[0m \u001b[32m━━━━━━━━━━━━━━━━━━━━\u001b[0m\u001b[37m\u001b[0m \u001b[1m0s\u001b[0m 2ms/step - accuracy: 0.9893 - loss: 0.0422 \n",
      "Epoch 50/80\n",
      "\u001b[1m12/12\u001b[0m \u001b[32m━━━━━━━━━━━━━━━━━━━━\u001b[0m\u001b[37m\u001b[0m \u001b[1m0s\u001b[0m 3ms/step - accuracy: 0.9948 - loss: 0.0214 \n",
      "Epoch 51/80\n",
      "\u001b[1m12/12\u001b[0m \u001b[32m━━━━━━━━━━━━━━━━━━━━\u001b[0m\u001b[37m\u001b[0m \u001b[1m0s\u001b[0m 2ms/step - accuracy: 0.9899 - loss: 0.0339 \n",
      "Epoch 52/80\n",
      "\u001b[1m12/12\u001b[0m \u001b[32m━━━━━━━━━━━━━━━━━━━━\u001b[0m\u001b[37m\u001b[0m \u001b[1m0s\u001b[0m 1ms/step - accuracy: 0.9880 - loss: 0.0351 \n",
      "Epoch 53/80\n",
      "\u001b[1m12/12\u001b[0m \u001b[32m━━━━━━━━━━━━━━━━━━━━\u001b[0m\u001b[37m\u001b[0m \u001b[1m0s\u001b[0m 3ms/step - accuracy: 0.9962 - loss: 0.0219 \n",
      "Epoch 54/80\n",
      "\u001b[1m12/12\u001b[0m \u001b[32m━━━━━━━━━━━━━━━━━━━━\u001b[0m\u001b[37m\u001b[0m \u001b[1m0s\u001b[0m 1ms/step - accuracy: 0.9972 - loss: 0.0189 \n",
      "Epoch 55/80\n",
      "\u001b[1m12/12\u001b[0m \u001b[32m━━━━━━━━━━━━━━━━━━━━\u001b[0m\u001b[37m\u001b[0m \u001b[1m0s\u001b[0m 1ms/step - accuracy: 0.9886 - loss: 0.0369 \n",
      "Epoch 56/80\n",
      "\u001b[1m12/12\u001b[0m \u001b[32m━━━━━━━━━━━━━━━━━━━━\u001b[0m\u001b[37m\u001b[0m \u001b[1m0s\u001b[0m 2ms/step - accuracy: 0.9953 - loss: 0.0264 \n",
      "Epoch 57/80\n",
      "\u001b[1m12/12\u001b[0m \u001b[32m━━━━━━━━━━━━━━━━━━━━\u001b[0m\u001b[37m\u001b[0m \u001b[1m0s\u001b[0m 1ms/step - accuracy: 0.9965 - loss: 0.0196 \n",
      "Epoch 58/80\n",
      "\u001b[1m12/12\u001b[0m \u001b[32m━━━━━━━━━━━━━━━━━━━━\u001b[0m\u001b[37m\u001b[0m \u001b[1m0s\u001b[0m 1ms/step - accuracy: 0.9915 - loss: 0.0345 \n",
      "Epoch 59/80\n",
      "\u001b[1m12/12\u001b[0m \u001b[32m━━━━━━━━━━━━━━━━━━━━\u001b[0m\u001b[37m\u001b[0m \u001b[1m0s\u001b[0m 1ms/step - accuracy: 0.9921 - loss: 0.0243 \n",
      "Epoch 60/80\n",
      "\u001b[1m12/12\u001b[0m \u001b[32m━━━━━━━━━━━━━━━━━━━━\u001b[0m\u001b[37m\u001b[0m \u001b[1m0s\u001b[0m 1ms/step - accuracy: 0.9904 - loss: 0.0322 \n",
      "Epoch 61/80\n",
      "\u001b[1m12/12\u001b[0m \u001b[32m━━━━━━━━━━━━━━━━━━━━\u001b[0m\u001b[37m\u001b[0m \u001b[1m0s\u001b[0m 1ms/step - accuracy: 0.9962 - loss: 0.0187 \n",
      "Epoch 62/80\n",
      "\u001b[1m12/12\u001b[0m \u001b[32m━━━━━━━━━━━━━━━━━━━━\u001b[0m\u001b[37m\u001b[0m \u001b[1m0s\u001b[0m 1ms/step - accuracy: 0.9945 - loss: 0.0257 \n",
      "Epoch 63/80\n",
      "\u001b[1m12/12\u001b[0m \u001b[32m━━━━━━━━━━━━━━━━━━━━\u001b[0m\u001b[37m\u001b[0m \u001b[1m0s\u001b[0m 1ms/step - accuracy: 0.9928 - loss: 0.0248 \n",
      "Epoch 64/80\n",
      "\u001b[1m12/12\u001b[0m \u001b[32m━━━━━━━━━━━━━━━━━━━━\u001b[0m\u001b[37m\u001b[0m \u001b[1m0s\u001b[0m 1ms/step - accuracy: 0.9973 - loss: 0.0134 \n",
      "Epoch 65/80\n",
      "\u001b[1m12/12\u001b[0m \u001b[32m━━━━━━━━━━━━━━━━━━━━\u001b[0m\u001b[37m\u001b[0m \u001b[1m0s\u001b[0m 1ms/step - accuracy: 0.9903 - loss: 0.0328 \n",
      "Epoch 66/80\n",
      "\u001b[1m12/12\u001b[0m \u001b[32m━━━━━━━━━━━━━━━━━━━━\u001b[0m\u001b[37m\u001b[0m \u001b[1m0s\u001b[0m 1ms/step - accuracy: 0.9914 - loss: 0.0258 \n",
      "Epoch 67/80\n",
      "\u001b[1m12/12\u001b[0m \u001b[32m━━━━━━━━━━━━━━━━━━━━\u001b[0m\u001b[37m\u001b[0m \u001b[1m0s\u001b[0m 1ms/step - accuracy: 0.9939 - loss: 0.0215 \n",
      "Epoch 68/80\n",
      "\u001b[1m12/12\u001b[0m \u001b[32m━━━━━━━━━━━━━━━━━━━━\u001b[0m\u001b[37m\u001b[0m \u001b[1m0s\u001b[0m 1ms/step - accuracy: 0.9902 - loss: 0.0317 \n",
      "Epoch 69/80\n",
      "\u001b[1m12/12\u001b[0m \u001b[32m━━━━━━━━━━━━━━━━━━━━\u001b[0m\u001b[37m\u001b[0m \u001b[1m0s\u001b[0m 1ms/step - accuracy: 0.9951 - loss: 0.0191 \n",
      "Epoch 70/80\n",
      "\u001b[1m12/12\u001b[0m \u001b[32m━━━━━━━━━━━━━━━━━━━━\u001b[0m\u001b[37m\u001b[0m \u001b[1m0s\u001b[0m 1ms/step - accuracy: 0.9949 - loss: 0.0155 \n",
      "Epoch 71/80\n",
      "\u001b[1m12/12\u001b[0m \u001b[32m━━━━━━━━━━━━━━━━━━━━\u001b[0m\u001b[37m\u001b[0m \u001b[1m0s\u001b[0m 1ms/step - accuracy: 0.9906 - loss: 0.0251 \n",
      "Epoch 72/80\n",
      "\u001b[1m12/12\u001b[0m \u001b[32m━━━━━━━━━━━━━━━━━━━━\u001b[0m\u001b[37m\u001b[0m \u001b[1m0s\u001b[0m 1ms/step - accuracy: 0.9944 - loss: 0.0182 \n",
      "Epoch 73/80\n",
      "\u001b[1m12/12\u001b[0m \u001b[32m━━━━━━━━━━━━━━━━━━━━\u001b[0m\u001b[37m\u001b[0m \u001b[1m0s\u001b[0m 1ms/step - accuracy: 0.9967 - loss: 0.0129 \n",
      "Epoch 74/80\n",
      "\u001b[1m12/12\u001b[0m \u001b[32m━━━━━━━━━━━━━━━━━━━━\u001b[0m\u001b[37m\u001b[0m \u001b[1m0s\u001b[0m 1ms/step - accuracy: 0.9904 - loss: 0.0232 \n",
      "Epoch 75/80\n",
      "\u001b[1m12/12\u001b[0m \u001b[32m━━━━━━━━━━━━━━━━━━━━\u001b[0m\u001b[37m\u001b[0m \u001b[1m0s\u001b[0m 2ms/step - accuracy: 0.9979 - loss: 0.0099 \n",
      "Epoch 76/80\n",
      "\u001b[1m12/12\u001b[0m \u001b[32m━━━━━━━━━━━━━━━━━━━━\u001b[0m\u001b[37m\u001b[0m \u001b[1m0s\u001b[0m 1ms/step - accuracy: 0.9965 - loss: 0.0114 \n",
      "Epoch 77/80\n",
      "\u001b[1m12/12\u001b[0m \u001b[32m━━━━━━━━━━━━━━━━━━━━\u001b[0m\u001b[37m\u001b[0m \u001b[1m0s\u001b[0m 1ms/step - accuracy: 0.9932 - loss: 0.0151 \n",
      "Epoch 78/80\n",
      "\u001b[1m12/12\u001b[0m \u001b[32m━━━━━━━━━━━━━━━━━━━━\u001b[0m\u001b[37m\u001b[0m \u001b[1m0s\u001b[0m 1ms/step - accuracy: 0.9952 - loss: 0.0133 \n",
      "Epoch 79/80\n",
      "\u001b[1m12/12\u001b[0m \u001b[32m━━━━━━━━━━━━━━━━━━━━\u001b[0m\u001b[37m\u001b[0m \u001b[1m0s\u001b[0m 1ms/step - accuracy: 0.9942 - loss: 0.0149 \n",
      "Epoch 80/80\n",
      "\u001b[1m12/12\u001b[0m \u001b[32m━━━━━━━━━━━━━━━━━━━━\u001b[0m\u001b[37m\u001b[0m \u001b[1m0s\u001b[0m 1ms/step - accuracy: 0.9941 - loss: 0.0158 \n"
     ]
    },
    {
     "data": {
      "text/plain": [
       "<keras.src.callbacks.history.History at 0x1be592483b0>"
      ]
     },
     "execution_count": 103,
     "metadata": {},
     "output_type": "execute_result"
    }
   ],
   "source": [
    "model2.fit(X_train,y_train, epochs=80, batch_size=45)"
   ]
  },
  {
   "cell_type": "code",
   "execution_count": 109,
   "id": "57adef41-a1ce-4d59-90fd-931f45733a80",
   "metadata": {},
   "outputs": [
    {
     "name": "stdout",
     "output_type": "stream",
     "text": [
      "\u001b[1m2/2\u001b[0m \u001b[32m━━━━━━━━━━━━━━━━━━━━\u001b[0m\u001b[37m\u001b[0m \u001b[1m0s\u001b[0m 4ms/step \n"
     ]
    }
   ],
   "source": [
    "predictions = (model2.predict(X_test)> 0.5).astype('int')"
   ]
  },
  {
   "cell_type": "code",
   "execution_count": 111,
   "id": "aabaac9e-4d9a-41be-b18c-5dbb7b4c0a34",
   "metadata": {},
   "outputs": [
    {
     "name": "stdout",
     "output_type": "stream",
     "text": [
      "0.9649122807017544\n",
      "[[23  0]\n",
      " [ 2 32]]\n",
      "              precision    recall  f1-score   support\n",
      "\n",
      "           0       0.92      1.00      0.96        23\n",
      "           1       1.00      0.94      0.97        34\n",
      "\n",
      "    accuracy                           0.96        57\n",
      "   macro avg       0.96      0.97      0.96        57\n",
      "weighted avg       0.97      0.96      0.97        57\n",
      "\n"
     ]
    }
   ],
   "source": [
    "from sklearn.metrics import classification_report, confusion_matrix, accuracy_score\n",
    "print(accuracy_score(y_test,predictions))\n",
    "print(confusion_matrix(y_test,predictions))\n",
    "print(classification_report(y_test,predictions))"
   ]
  },
  {
   "cell_type": "code",
   "execution_count": null,
   "id": "2d0f8e3d-0cdd-435b-9086-6b06e532ab66",
   "metadata": {},
   "outputs": [],
   "source": []
  }
 ],
 "metadata": {
  "kernelspec": {
   "display_name": "Python 3 (ipykernel)",
   "language": "python",
   "name": "python3"
  },
  "language_info": {
   "codemirror_mode": {
    "name": "ipython",
    "version": 3
   },
   "file_extension": ".py",
   "mimetype": "text/x-python",
   "name": "python",
   "nbconvert_exporter": "python",
   "pygments_lexer": "ipython3",
   "version": "3.12.4"
  }
 },
 "nbformat": 4,
 "nbformat_minor": 5
}
