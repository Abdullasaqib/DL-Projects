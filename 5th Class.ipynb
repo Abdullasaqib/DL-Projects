{
 "cells": [
  {
   "cell_type": "markdown",
   "id": "f6ba6ac4-e415-4d4b-bd6f-fc3f6fcc8861",
   "metadata": {},
   "source": [
    "#### !pip install opencv-python==4.8.1.78"
   ]
  },
  {
   "cell_type": "code",
   "execution_count": 25,
   "id": "af9e29a5-b74e-4431-9891-dc5ef96dc7db",
   "metadata": {},
   "outputs": [],
   "source": [
    "import cv2\n",
    "import numpy as np"
   ]
  },
  {
   "cell_type": "code",
   "execution_count": 31,
   "id": "2f78a637-9b95-4acd-af12-edc62c94dfcd",
   "metadata": {},
   "outputs": [],
   "source": [
    "img = cv2.imread(r\"C:\\Users\\ABDUL HAMEED\\OneDrive\\Desktop\\shah.jpeg\")"
   ]
  },
  {
   "cell_type": "code",
   "execution_count": 33,
   "id": "684de9e3-555b-406b-9c78-de223812ece3",
   "metadata": {},
   "outputs": [],
   "source": [
    "cv2.imshow('Shah Rukh Khan', img)\n",
    "cv2.waitKey(0) #This Means Window Will Be Closed When We Pressed Any Key\n",
    "cv2.destroyAllWindows()"
   ]
  },
  {
   "cell_type": "code",
   "execution_count": 35,
   "id": "ad751050-ba0d-4585-a85d-f41b85bc568b",
   "metadata": {},
   "outputs": [],
   "source": [
    "gray_img = cv2.cvtColor(img,cv2.COLOR_RGB2GRAY)"
   ]
  },
  {
   "cell_type": "code",
   "execution_count": 37,
   "id": "33c29dea-9358-45c2-8b99-4667e544b223",
   "metadata": {},
   "outputs": [],
   "source": [
    "cv2.imshow('Shah Rukh Khan in 1990\\'s', gray_img)\n",
    "cv2.waitKey(0) #This Means Window Will Be Closed When We Pressed Any Key\n",
    "cv2.destroyAllWindows()"
   ]
  },
  {
   "cell_type": "code",
   "execution_count": 39,
   "id": "36152dde-714c-4140-b863-325570b92978",
   "metadata": {},
   "outputs": [],
   "source": [
    "model = cv2.CascadeClassifier('haarcascade_frontalface_default.xml')"
   ]
  },
  {
   "cell_type": "code",
   "execution_count": 41,
   "id": "cb2f4433-7e33-4522-bb2e-0c932703dbc3",
   "metadata": {},
   "outputs": [],
   "source": [
    "faces = model.detectMultiScale(gray_img,minNeighbors=2)"
   ]
  },
  {
   "cell_type": "code",
   "execution_count": 43,
   "id": "03b9a170-6087-433b-b20b-5c513e207f6c",
   "metadata": {},
   "outputs": [],
   "source": [
    "for (x,y,w,h) in faces:\n",
    "    cv2.rectangle(gray_img, (x,y), (x+w,y+h),(0, 255, 0),2)\n",
    "cv2.imshow('Detecting The face',gray_img)\n",
    "cv2.waitKey(0) #This Means Window Will Be Closed When We Pressed Any Key\n",
    "cv2.destroyAllWindows()"
   ]
  },
  {
   "cell_type": "markdown",
   "id": "295d01b9-1914-4e9d-83cc-88d8ec3dbb41",
   "metadata": {},
   "source": [
    "## Web Cam Face Detection"
   ]
  },
  {
   "cell_type": "code",
   "execution_count": 48,
   "id": "6a090951-d5e5-4a7f-8873-723fa7d4193e",
   "metadata": {},
   "outputs": [],
   "source": [
    "cap = cv2.VideoCapture(0)\n",
    "\n",
    "while True:\n",
    "    res, frame = cap.read()\n",
    "    img2 = cv2.cvtColor(frame,cv2.COLOR_RGB2GRAY)\n",
    "    fasec = model.detectMultiScale(img2, scaleFactor=1.1, minNeighbors=5)\n",
    "    for (x,y,w,h) in fasec:\n",
    "        cv2.rectangle(frame, (x,y),(x+w,y+h),(0,0,0),3)\n",
    "    cv2.imshow('Camera Face Detector',frame)\n",
    "    if cv2.waitKey(1) == ord('q'):\n",
    "        break\n",
    "\n",
    "cap.release()\n",
    "cv2.destroyAllWindows()    "
   ]
  },
  {
   "cell_type": "code",
   "execution_count": 49,
   "id": "bae7f0ac-5a7b-4341-9874-336fba22907c",
   "metadata": {},
   "outputs": [],
   "source": [
    "cap = cv2.VideoCapture(0)\n",
    "model = cv2.CascadeClassifier(cv2.data.haarcascades + 'haarcascade_frontalface_default.xml')\n",
    "while True:\n",
    "    res, frame = cap.read()\n",
    "    img = cv2.cvtColor(frame, cv2.COLOR_RGB2GRAY)\n",
    "    faces = model.detectMultiScale(img, scaleFactor=1.1, minNeighbors=8)\n",
    "    for (x, y, w, h) in faces:\n",
    "        # Define vertices of a triangle around the face\n",
    "        pt1 = (x + w // 2, y)  # Top middle\n",
    "        pt2 = (x, y + h)       # Bottom left\n",
    "        pt3 = (x + w, y + h)   # Bottom right\n",
    "        # Draw the triangle\n",
    "        pts = np.array([pt1, pt2, pt3], np.int32)\n",
    "        pts = pts.reshape((-1, 1, 2))\n",
    "        cv2.polylines(frame, [pts], isClosed=True, color=(0, 0, 0), thickness=2)\n",
    "    cv2.imshow(\"Screen - Triangle\", frame)\n",
    "    if cv2.waitKey(1) == ord(\"q\"):\n",
    "        break\n",
    "cap.release()\n",
    "cv2.destroyAllWindows()"
   ]
  },
  {
   "cell_type": "code",
   "execution_count": 50,
   "id": "fbd7cfcf-56f5-440e-9175-edb442473bc0",
   "metadata": {},
   "outputs": [],
   "source": [
    "cap = cv2.VideoCapture(0)\n",
    "model = cv2.CascadeClassifier(cv2.data.haarcascades + 'haarcascade_frontalface_default.xml')\n",
    "while True:\n",
    "    res, frame = cap.read()\n",
    "    img = cv2.cvtColor(frame, cv2.COLOR_RGB2GRAY)\n",
    "    faces = model.detectMultiScale(img, scaleFactor=1.1, minNeighbors=8)\n",
    "    for (x, y, w, h) in faces:\n",
    "        # Calculate the center of the face\n",
    "        center = (x + w // 2, y + h // 2)\n",
    "        # Size of the ellipse\n",
    "        axes = (w // 2, h // 4)\n",
    "        # Draw an ellipse around the face\n",
    "        cv2.ellipse(frame, center, axes, 0, 0, 360, (255, 255, 255), 2)\n",
    "    cv2.imshow(\"Screen - Ellipse\", frame)\n",
    "    if cv2.waitKey(1) == ord(\"q\"):\n",
    "        break\n",
    "cap.release()\n",
    "cv2.destroyAllWindows()"
   ]
  },
  {
   "cell_type": "code",
   "execution_count": 51,
   "id": "6b1320d3-63ac-4ae9-b635-7d198b50c3d6",
   "metadata": {},
   "outputs": [],
   "source": [
    "cap = cv2.VideoCapture(0)\n",
    "model = cv2.CascadeClassifier(cv2.data.haarcascades + 'haarcascade_frontalface_default.xml')\n",
    "while True:\n",
    "    res, frame = cap.read()\n",
    "    img = cv2.cvtColor(frame, cv2.COLOR_RGB2GRAY)\n",
    "    faces = model.detectMultiScale(img, scaleFactor=1.1, minNeighbors=8)\n",
    "    for (x, y, w, h) in faces:\n",
    "        # Calculate the center of the face\n",
    "        center = (x + w // 2, y + h // 2)\n",
    "        # Calculate the radius of the circle\n",
    "        radius = w // 2\n",
    "        # Draw a circle around the face\n",
    "        cv2.circle(frame, center, radius, (0, 200, 75), 2)\n",
    "    cv2.imshow(\"Screen - Circle\", frame)\n",
    "    if cv2.waitKey(1) == ord(\"q\"):\n",
    "        break\n",
    "cap.release()\n",
    "cv2.destroyAllWindows()"
   ]
  },
  {
   "cell_type": "code",
   "execution_count": null,
   "id": "bf1c8d91-2b0d-42fa-b7ca-577db61920ae",
   "metadata": {},
   "outputs": [],
   "source": []
  }
 ],
 "metadata": {
  "kernelspec": {
   "display_name": "Python 3 (ipykernel)",
   "language": "python",
   "name": "python3"
  },
  "language_info": {
   "codemirror_mode": {
    "name": "ipython",
    "version": 3
   },
   "file_extension": ".py",
   "mimetype": "text/x-python",
   "name": "python",
   "nbconvert_exporter": "python",
   "pygments_lexer": "ipython3",
   "version": "3.12.4"
  }
 },
 "nbformat": 4,
 "nbformat_minor": 5
}
