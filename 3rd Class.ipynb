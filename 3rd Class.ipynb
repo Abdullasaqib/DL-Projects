{
 "cells": [
  {
   "cell_type": "code",
   "execution_count": null,
   "id": "60a4c189-8b48-4600-af13-b3753830d9dd",
   "metadata": {},
   "outputs": [],
   "source": [
    "import pandas as pd\n",
    "import sklearn"
   ]
  },
  {
   "cell_type": "code",
   "execution_count": null,
   "id": "ed793f5d-3b89-4fde-866b-ad0bf5825f88",
   "metadata": {},
   "outputs": [],
   "source": [
    "from sklearn.datasets import load_iris\n",
    "iris = load_iris()\n",
    "iris.target_names"
   ]
  },
  {
   "cell_type": "code",
   "execution_count": null,
   "id": "e40e929d-1a34-41c2-b740-29c72114fcd4",
   "metadata": {},
   "outputs": [],
   "source": [
    "df = pd.DataFrame(iris.data, columns=iris.feature_names)  ## initialise the data directly no need to mention data =\n",
    "X = df  # Features\n",
    "y = iris.target  # Target variable"
   ]
  },
  {
   "cell_type": "code",
   "execution_count": null,
   "id": "e679474d-3002-48d3-9a8b-f625df9cd417",
   "metadata": {},
   "outputs": [],
   "source": [
    "from sklearn.preprocessing import StandardScaler, LabelEncoder\n",
    "# Feature Scaling\n",
    "scaler = StandardScaler()\n",
    "X_scaled = scaler.fit_transform(X)\n",
    "# Encode target labels\n",
    "encoder = LabelEncoder()\n",
    "y_encoded = encoder.fit_transform(y)"
   ]
  },
  {
   "cell_type": "code",
   "execution_count": null,
   "id": "96ed45a7-9d1a-4417-a1e4-14971d55f8fd",
   "metadata": {},
   "outputs": [],
   "source": [
    "# Split the data into training and testing sets\n",
    "from sklearn.model_selection import train_test_split\n",
    "X_train, X_test, y_train, y_test = train_test_split(X_scaled, y_encoded, test_size=0.3,\n",
    "                                                    random_state=30)"
   ]
  },
  {
   "cell_type": "code",
   "execution_count": null,
   "id": "225ae981-6e89-4d2e-9a41-6c773764e704",
   "metadata": {},
   "outputs": [],
   "source": [
    "# Define the neural network model\n",
    "from keras.layers import Dense\n",
    "from keras.models import Sequential\n",
    "model = Sequential()\n",
    "model.add(Dense(units=4, activation=\"relu\"))  # Input layer\n",
    "model.add(Dense(units=8, activation=\"relu\"))  # Hidden layers\n",
    "model.add(Dense(units=8, activation=\"relu\"))  # More hidden layers\n",
    "model.add(Dense(units=8, activation=\"relu\"))  # More hidden layers\n",
    "model.add(Dense(units=3, activation=\"softmax\"))  # Output layer"
   ]
  },
  {
   "cell_type": "code",
   "execution_count": null,
   "id": "a2b42e16-8d91-4b71-8623-815588d8d1d3",
   "metadata": {},
   "outputs": [],
   "source": [
    "# Compile the model\n",
    "# as the target labels are integers we will be using sparse_categorical_crossentropy\n",
    "model.compile(optimizer=\"adam\", loss=\"sparse_categorical_crossentropy\",\n",
    "              metrics=[\"accuracy\"])"
   ]
  },
  {
   "cell_type": "code",
   "execution_count": null,
   "id": "2829e775-7161-485d-8291-36c48b4b769c",
   "metadata": {},
   "outputs": [],
   "source": [
    "# Train the model\n",
    "model.fit(X_train, y_train, epochs=100, batch_size=32)"
   ]
  },
  {
   "cell_type": "code",
   "execution_count": null,
   "id": "5e8778b9-b91f-46e9-9098-f3035572bed2",
   "metadata": {},
   "outputs": [],
   "source": [
    "# Make predictions\n",
    "import numpy as np\n",
    "predictions = model.predict(X_test)  ## returns the model's raw predictions\n",
    "predictions = np.argmax(predictions, axis=1)  #converts the model's predicted probabilities\n",
    "# into the final class labels by selecting the class with the highest probability for each\n",
    "# sample."
   ]
  },
  {
   "cell_type": "code",
   "execution_count": null,
   "id": "096314f7-c69f-4a0f-a97c-7112d4de3f3c",
   "metadata": {},
   "outputs": [],
   "source": [
    "# Evaluation\n",
    "from sklearn.metrics import classification_report, confusion_matrix\n",
    "print(classification_report(y_test, predictions))\n",
    "print(confusion_matrix(y_test, predictions))"
   ]
  },
  {
   "cell_type": "code",
   "execution_count": null,
   "id": "f13ff44d-fb59-479b-b9b2-57fd80223df1",
   "metadata": {},
   "outputs": [],
   "source": []
  }
 ],
 "metadata": {
  "kernelspec": {
   "display_name": "Python 3 (ipykernel)",
   "language": "python",
   "name": "python3"
  },
  "language_info": {
   "codemirror_mode": {
    "name": "ipython",
    "version": 3
   },
   "file_extension": ".py",
   "mimetype": "text/x-python",
   "name": "python",
   "nbconvert_exporter": "python",
   "pygments_lexer": "ipython3",
   "version": "3.12.4"
  }
 },
 "nbformat": 4,
 "nbformat_minor": 5
}
